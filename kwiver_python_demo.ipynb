{
 "cells": [
  {
   "cell_type": "code",
   "execution_count": 1,
   "metadata": {
    "scrolled": false
   },
   "outputs": [
    {
     "name": "stdout",
     "output_type": "stream",
     "text": [
      "Defaulting to user installation because normal site-packages is not writeable\n",
      "Requirement already satisfied: requests in /usr/lib/python3/dist-packages (2.18.4)\n"
     ]
    }
   ],
   "source": [
    "!pip install requests"
   ]
  },
  {
   "cell_type": "code",
   "execution_count": 2,
   "metadata": {},
   "outputs": [],
   "source": [
    "# First get the image to be used in the pipeline\n",
    "import requests\n",
    "\n",
    "url = \"https://raw.githubusercontent.com/Kitware/kwiver/master/examples/images/soda_circles.jpg\"\n",
    "im_loc = \"images/soda_circles.jpg\"\n",
    "\n",
    "f = open(im_loc,'wb')\n",
    "f.write(requests.get(url).content)\n",
    "f.close()"
   ]
  },
  {
   "cell_type": "code",
   "execution_count": 3,
   "metadata": {},
   "outputs": [
    {
     "name": "stdout",
     "output_type": "stream",
     "text": [
      "Defaulting to user installation because normal site-packages is not writeable\n",
      "Requirement already satisfied: pillow in /home/tom.osika/.local/lib/python3.6/site-packages (7.1.0)\n",
      "Requirement already satisfied: numpy in /home/tom.osika/.local/lib/python3.6/site-packages (1.17.0)\n"
     ]
    }
   ],
   "source": [
    "!pip install pillow numpy"
   ]
  },
  {
   "cell_type": "code",
   "execution_count": 4,
   "metadata": {},
   "outputs": [],
   "source": [
    "# Now load the image as a vital type\n",
    "from PIL import Image\n",
    "import numpy as np\n",
    "import kwiver.vital.types as kvt\n",
    "\n",
    "np_image = np.array(Image.open(im_loc))\n",
    "vital_im = kvt.Image(np_image)\n",
    "im_container = kvt.ImageContainer(vital_im)"
   ]
  },
  {
   "cell_type": "code",
   "execution_count": 5,
   "metadata": {},
   "outputs": [
    {
     "name": "stderr",
     "output_type": "stream",
     "text": [
      "2020-09-30 08:21:36.593 WARNING kwiver.vital.modules.loaders(155): Could not import: kwiver.vital.tests.alg.simple_compute_track_descriptors, Reason: cannot import name 'ComputeTrackDescriptors'\n",
      "2020-09-30 08:21:36.606 WARNING kwiver.vital.modules.module_loader(53): Python module \"<module 'kwiver.sprokit.processes.kwiver_process' from '/home/tom.osika/kwiver/dev/build/lib/python3/dist-packages/kwiver/sprokit/processes/kwiver_process.py'>\" does not have registrar method\n"
     ]
    },
    {
     "name": "stdout",
     "output_type": "stream",
     "text": [
      "Detected object set generated: <DetectedObjectSet(size=2)>\n",
      "\n",
      "\n"
     ]
    }
   ],
   "source": [
    "# Run the pipeline\n",
    "from kwiver.sprokit.adapters import adapter_data_set, embedded_pipeline\n",
    "\n",
    "path_to_pipe_file = \"pipelines/hough_detector.pipe\"\n",
    "\n",
    "ep = embedded_pipeline.EmbeddedPipeline()\n",
    "ep.build_pipeline(path_to_pipe_file)\n",
    "\n",
    "ep.start()\n",
    "\n",
    "ads_in = adapter_data_set.AdapterDataSet.create()\n",
    "ads_in[\"image\"] = im_container\n",
    "ep.send(ads_in)\n",
    "ep.send_end_of_input()\n",
    "\n",
    "while True:\n",
    "    ads_out = ep.receive()\n",
    "\n",
    "    if ads_out.is_end_of_data():\n",
    "        break\n",
    "\n",
    "    dos = ads_out[\"detected_object_set\"]\n",
    "\n",
    "\n",
    "import time\n",
    "time.sleep(5)\n",
    "ep.stop()\n",
    "print(\"Detected object set generated:\", dos, end=\"\\n\\n\\n\")"
   ]
  },
  {
   "cell_type": "code",
   "execution_count": 6,
   "metadata": {},
   "outputs": [
    {
     "name": "stdout",
     "output_type": "stream",
     "text": [
      "Defaulting to user installation because normal site-packages is not writeable\n",
      "Obtaining file:///home/tom.osika/kwiver/demo\n",
      "Requirement already satisfied: pickle-mixin in /home/tom.osika/.local/lib/python3.6/site-packages (from demo-detected-object-set-output==0.1.0) (1.0.2)\n",
      "Installing collected packages: demo-detected-object-set-output\n",
      "  Attempting uninstall: demo-detected-object-set-output\n",
      "    Found existing installation: demo-detected-object-set-output 0.1.0\n",
      "    Uninstalling demo-detected-object-set-output-0.1.0:\n",
      "      Successfully uninstalled demo-detected-object-set-output-0.1.0\n",
      "  Running setup.py develop for demo-detected-object-set-output\n",
      "Successfully installed demo-detected-object-set-output\n"
     ]
    }
   ],
   "source": [
    "!pip install -e ."
   ]
  },
  {
   "cell_type": "code",
   "execution_count": 7,
   "metadata": {
    "scrolled": true
   },
   "outputs": [],
   "source": [
    "# Now save the detected object set with another pipeline\n",
    "path_to_pipe_file = \"pipelines/save_dos.pipe\"\n",
    "\n",
    "ep = embedded_pipeline.EmbeddedPipeline()\n",
    "ep.build_pipeline(path_to_pipe_file)\n",
    "ep.start()\n",
    "\n",
    "ads_in = adapter_data_set.AdapterDataSet.create()\n",
    "ads_in[\"detected_object_set\"] = dos\n",
    "ads_in[\"image_file_name\"] = im_loc\n",
    "\n",
    "ep.send(ads_in)\n",
    "ep.send_end_of_input()\n",
    "\n",
    "while True:\n",
    "    ep.receive()\n",
    "\n",
    "    if ep.at_end():\n",
    "        break\n"
   ]
  },
  {
   "cell_type": "code",
   "execution_count": 8,
   "metadata": {},
   "outputs": [
    {
     "name": "stdout",
     "output_type": "stream",
     "text": [
      "Defaulting to user installation because normal site-packages is not writeable\n",
      "Requirement already satisfied: pickle-mixin in /home/tom.osika/.local/lib/python3.6/site-packages (1.0.2)\n"
     ]
    }
   ],
   "source": [
    "!pip install pickle-mixin"
   ]
  },
  {
   "cell_type": "code",
   "execution_count": 9,
   "metadata": {},
   "outputs": [
    {
     "name": "stdout",
     "output_type": "stream",
     "text": [
      "Loaded set length: 2 expected length: 2\n",
      "loaded image loc: images/soda_circles.jpg expected image loc: images/soda_circles.jpg\n",
      "\n",
      "\n"
     ]
    }
   ],
   "source": [
    "# The detected object set length and image name should be\n",
    "# \"pickled\" to a file. Try loading them:\n",
    "import pickle\n",
    "time.sleep(1)\n",
    "loaded_data = pickle.load(open(\"set_length_and_image_name.p\", \"rb\"))\n",
    "loaded_dos_length = loaded_data[\"set_length\"]\n",
    "loaded_im_loc = loaded_data[\"image_name\"]\n",
    "\n",
    "assert(loaded_dos_length == len(dos))\n",
    "assert(loaded_im_loc == im_loc)\n",
    "\n",
    "print(\"Loaded set length:\", loaded_dos_length, \"expected length:\", len(dos))\n",
    "print(\"loaded image loc:\", loaded_im_loc, \"expected image loc:\", im_loc, end=\"\\n\\n\\n\")"
   ]
  },
  {
   "cell_type": "code",
   "execution_count": null,
   "metadata": {},
   "outputs": [],
   "source": []
  }
 ],
 "metadata": {
  "kernelspec": {
   "display_name": "Python 3",
   "language": "python",
   "name": "python3"
  },
  "language_info": {
   "codemirror_mode": {
    "name": "ipython",
    "version": 3
   },
   "file_extension": ".py",
   "mimetype": "text/x-python",
   "name": "python",
   "nbconvert_exporter": "python",
   "pygments_lexer": "ipython3",
   "version": "3.6.9"
  }
 },
 "nbformat": 4,
 "nbformat_minor": 4
}
